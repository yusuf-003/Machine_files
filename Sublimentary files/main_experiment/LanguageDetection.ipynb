{
  "cells": [
    {
      "cell_type": "code",
      "execution_count": null,
      "metadata": {
        "colab": {
          "base_uri": "https://localhost:8080/"
        },
        "id": "bkyGKjeZQ5Zo",
        "outputId": "5bf49c90-5737-4a16-ae43-98db28789ac4"
      },
      "outputs": [
        {
          "name": "stdout",
          "output_type": "stream",
          "text": [
            "Collecting langdetect\n",
            "  Downloading langdetect-1.0.9.tar.gz (981 kB)\n",
            "\u001b[?25l     \u001b[90m━━━━━━━━━━━━━━━━━━━━━━━━━━━━━━━━━━━━━━━━\u001b[0m \u001b[32m0.0/981.5 kB\u001b[0m \u001b[31m?\u001b[0m eta \u001b[36m-:--:--\u001b[0m\r\u001b[2K     \u001b[91m━━━━━\u001b[0m\u001b[91m╸\u001b[0m\u001b[90m━━━━━━━━━━━━━━━━━━━━━━━━━━━━━━━━━━\u001b[0m \u001b[32m143.4/981.5 kB\u001b[0m \u001b[31m4.4 MB/s\u001b[0m eta \u001b[36m0:00:01\u001b[0m\r\u001b[2K     \u001b[91m━━━━━━━━━━━━━━━━━━━━━━━━━━━━━━━━━━━━━━━\u001b[0m\u001b[91m╸\u001b[0m \u001b[32m972.8/981.5 kB\u001b[0m \u001b[31m16.2 MB/s\u001b[0m eta \u001b[36m0:00:01\u001b[0m\r\u001b[2K     \u001b[90m━━━━━━━━━━━━━━━━━━━━━━━━━━━━━━━━━━━━━━━━\u001b[0m \u001b[32m981.5/981.5 kB\u001b[0m \u001b[31m13.8 MB/s\u001b[0m eta \u001b[36m0:00:00\u001b[0m\n",
            "\u001b[?25h  Preparing metadata (setup.py) ... \u001b[?25l\u001b[?25hdone\n",
            "Requirement already satisfied: six in /usr/local/lib/python3.10/dist-packages (from langdetect) (1.16.0)\n",
            "Building wheels for collected packages: langdetect\n",
            "  Building wheel for langdetect (setup.py) ... \u001b[?25l\u001b[?25hdone\n",
            "  Created wheel for langdetect: filename=langdetect-1.0.9-py3-none-any.whl size=993224 sha256=e0dcd3fc5e5c37fbb8a149aac7d7740c817f9409441353d6e4552fe1ef1af769\n",
            "  Stored in directory: /root/.cache/pip/wheels/95/03/7d/59ea870c70ce4e5a370638b5462a7711ab78fba2f655d05106\n",
            "Successfully built langdetect\n",
            "Installing collected packages: langdetect\n",
            "Successfully installed langdetect-1.0.9\n"
          ]
        }
      ],
      "source": [
        "pip install langdetect"
      ]
    },
    {
      "cell_type": "code",
      "execution_count": null,
      "metadata": {
        "colab": {
          "base_uri": "https://localhost:8080/"
        },
        "id": "NvwaAbY-yL2_",
        "outputId": "b47a932c-4b20-4de4-bb98-4e1539f1a9d6"
      },
      "outputs": [
        {
          "name": "stdout",
          "output_type": "stream",
          "text": [
            "Collecting detectlanguage\n",
            "  Downloading detectlanguage-1.5.0.tar.gz (3.2 kB)\n",
            "  Preparing metadata (setup.py) ... \u001b[?25l\u001b[?25hdone\n",
            "Requirement already satisfied: requests>=2.4.2 in /usr/local/lib/python3.10/dist-packages (from detectlanguage) (2.31.0)\n",
            "Requirement already satisfied: charset-normalizer<4,>=2 in /usr/local/lib/python3.10/dist-packages (from requests>=2.4.2->detectlanguage) (3.3.1)\n",
            "Requirement already satisfied: idna<4,>=2.5 in /usr/local/lib/python3.10/dist-packages (from requests>=2.4.2->detectlanguage) (3.4)\n",
            "Requirement already satisfied: urllib3<3,>=1.21.1 in /usr/local/lib/python3.10/dist-packages (from requests>=2.4.2->detectlanguage) (2.0.7)\n",
            "Requirement already satisfied: certifi>=2017.4.17 in /usr/local/lib/python3.10/dist-packages (from requests>=2.4.2->detectlanguage) (2023.7.22)\n",
            "Building wheels for collected packages: detectlanguage\n",
            "  Building wheel for detectlanguage (setup.py) ... \u001b[?25l\u001b[?25hdone\n",
            "  Created wheel for detectlanguage: filename=detectlanguage-1.5.0-py3-none-any.whl size=3152 sha256=297deee397e59dec8fb480b1a490a0eb22f5b6a8519f9bcc7e8b94e38c3c70b5\n",
            "  Stored in directory: /root/.cache/pip/wheels/3a/7e/9d/0cd88ffba0471168a1d377f61ba21e8f4cf653f1f3b7e0baae\n",
            "Successfully built detectlanguage\n",
            "Installing collected packages: detectlanguage\n",
            "Successfully installed detectlanguage-1.5.0\n"
          ]
        }
      ],
      "source": [
        "pip install detectlanguage"
      ]
    },
    {
      "cell_type": "code",
      "execution_count": null,
      "metadata": {
        "id": "lKCVq1o-1JzK"
      },
      "outputs": [],
      "source": [
        "import pandas as pd\n",
        "import detectlanguage\n",
        "import matplotlib.pyplot as pl"
      ]
    },
    {
      "cell_type": "code",
      "execution_count": null,
      "metadata": {
        "id": "od5w70NMQb7s"
      },
      "outputs": [],
      "source": [
        "import pandas as pd\n",
        "df1 = pd.read_table('ha_train.tsv')\n",
        "df2 = pd.read_table('ha_dev_gold_label.tsv')\n",
        "df = pd.concat([df1, df2],ignore_index=True)\n"
      ]
    },
    {
      "cell_type": "code",
      "execution_count": null,
      "metadata": {
        "id": "3zv1sEkRyVAU"
      },
      "outputs": [],
      "source": [
        "import detectlanguage\n",
        "\n",
        "detectlanguage.configuration.api_key = \"You API key\"\n"
      ]
    },
    {
      "cell_type": "code",
      "execution_count": null,
      "metadata": {
        "colab": {
          "base_uri": "https://localhost:8080/"
        },
        "id": "-BOBKb-EPps6",
        "outputId": "c913d506-bc5b-4dd7-cd65-34ea5a55495b"
      },
      "outputs": [
        {
          "data": {
            "text/plain": [
              "[{'language': 'ha', 'isReliable': True, 'confidence': 10.68}]"
            ]
          },
          "execution_count": 22,
          "metadata": {},
          "output_type": "execute_result"
        }
      ],
      "source": [
        "detectlanguage.detect(\"user Da kudin da Arewa babu wani abin azo aga\")"
      ]
    },
    {
      "cell_type": "code",
      "execution_count": null,
      "metadata": {
        "colab": {
          "base_uri": "https://localhost:8080/",
          "height": 564
        },
        "id": "QnBmX8oFrsWb",
        "outputId": "7d0ff90c-733e-4cdc-d0d9-de0119dbd863"
      },
      "outputs": [
        {
          "data": {
            "image/png": "[encoded data removed]",
            "text/plain": [
              "<Figure size 1000x600 with 1 Axes>"
            ]
          },
          "metadata": {},
          "output_type": "display_data"
        }
      ],
      "source": [
        "import pandas as pd\n",
        "import detectlanguage\n",
        "import matplotlib.pyplot as plt\n",
        "\n",
        "# Set up your API key for the detectlanguage library\n",
        "detectlanguage.configuration.api_key = \"You API key\"\n",
        "\n",
        "# Assuming you have a pandas DataFrame with a \"tweet\" column\n",
        "# Create a function to count English and Hausa words in a tweet\n",
        "def count_languages(tweet):\n",
        "    result = detectlanguage.detect(tweet)\n",
        "    english_count = 0\n",
        "    hausa_count = 0\n",
        "\n",
        "    for language in result:\n",
        "        detected_language = language['language']\n",
        "        if detected_language == 'en':\n",
        "            # Split the tweet into words and count English words\n",
        "            words = tweet.split()\n",
        "            english_count += len(words)\n",
        "        elif detected_language == 'ha':\n",
        "            # Split the tweet into words and count Hausa words\n",
        "            words = tweet.split()\n",
        "            hausa_count += len(words)\n",
        "\n",
        "    return english_count, hausa_count\n",
        "\n",
        "# Apply the function to your DataFrame and create new columns\n",
        "df['english_word_count'], df['hausa_word_count'] = zip(*df['tweet'].apply(count_languages))\n",
        "\n",
        "# Plot a bar chart\n",
        "plt.figure(figsize=(10, 6))\n",
        "plt.bar(['English', 'Hausa'], [df['english_word_count'].sum(), df['hausa_word_count'].sum()])\n",
        "plt.xlabel('Language')\n",
        "plt.ylabel('Word Count')\n",
        "plt.title('Word Count by Language')\n",
        "plt.show()\n"
      ]
    }
  ],
  "metadata": {
    "accelerator": "GPU",
    "colab": {
      "gpuType": "T4",
      "provenance": []
    },
    "kernelspec": {
      "display_name": "Python 3",
      "name": "python3"
    },
    "language_info": {
      "name": "python"
    }
  },
  "nbformat": 4,
  "nbformat_minor": 0
}
